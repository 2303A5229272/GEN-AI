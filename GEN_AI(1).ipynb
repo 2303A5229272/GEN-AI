{
  "nbformat": 4,
  "nbformat_minor": 0,
  "metadata": {
    "colab": {
      "provenance": [],
      "authorship_tag": "ABX9TyO4Abx64s3Yn9YSeaVv2Ye2",
      "include_colab_link": true
    },
    "kernelspec": {
      "name": "python3",
      "display_name": "Python 3"
    },
    "language_info": {
      "name": "python"
    }
  },
  "cells": [
    {
      "cell_type": "markdown",
      "metadata": {
        "id": "view-in-github",
        "colab_type": "text"
      },
      "source": [
        "<a href=\"https://colab.research.google.com/github/2303A5229272/GEN-AI/blob/main/GEN_AI(1).ipynb\" target=\"_parent\"><img src=\"https://colab.research.google.com/assets/colab-badge.svg\" alt=\"Open In Colab\"/></a>"
      ]
    },
    {
      "cell_type": "code",
      "execution_count": 1,
      "metadata": {
        "id": "3dauQwYqg_Uy"
      },
      "outputs": [],
      "source": [
        "import numpy as np\n",
        "y_a=np.array([20,30,40,50,60])\n",
        "y_p=np.array([20.5,30.3,40.2,50.6,60.7])"
      ]
    },
    {
      "cell_type": "code",
      "source": [
        "mse=np.mean((y_a-y_p)**2)\n",
        "mse"
      ],
      "metadata": {
        "colab": {
          "base_uri": "https://localhost:8080/"
        },
        "id": "XY493QWnhJjV",
        "outputId": "d8b55ad0-d097-4a4b-9ebd-fbe81ad6b31e"
      },
      "execution_count": 2,
      "outputs": [
        {
          "output_type": "execute_result",
          "data": {
            "text/plain": [
              "0.24600000000000147"
            ]
          },
          "metadata": {},
          "execution_count": 2
        }
      ]
    },
    {
      "cell_type": "code",
      "source": [
        "mae=np.mean(np.abs(y_a-y_p))\n",
        "mae"
      ],
      "metadata": {
        "colab": {
          "base_uri": "https://localhost:8080/"
        },
        "id": "BPmQWaSghNPT",
        "outputId": "6d085b51-f486-4a24-a248-7a11298fce3d"
      },
      "execution_count": 3,
      "outputs": [
        {
          "output_type": "execute_result",
          "data": {
            "text/plain": [
              "0.4600000000000016"
            ]
          },
          "metadata": {},
          "execution_count": 3
        }
      ]
    },
    {
      "cell_type": "code",
      "source": [
        "from sklearn.metrics import mean_squared_error,mean_absolute_error\n",
        "m=mean_squared_error(y_a,y_p)"
      ],
      "metadata": {
        "id": "ipyzsAp1hSvT"
      },
      "execution_count": 6,
      "outputs": []
    },
    {
      "cell_type": "code",
      "source": [
        "mb=mean_absolute_error(y_a,y_p)\n",
        "mb"
      ],
      "metadata": {
        "colab": {
          "base_uri": "https://localhost:8080/"
        },
        "id": "FVfvp29vhLm8",
        "outputId": "ff68d5f0-63dd-43a4-c617-941ea903ba1b"
      },
      "execution_count": 5,
      "outputs": [
        {
          "output_type": "execute_result",
          "data": {
            "text/plain": [
              "0.4600000000000016"
            ]
          },
          "metadata": {},
          "execution_count": 5
        }
      ]
    },
    {
      "cell_type": "code",
      "source": [],
      "metadata": {
        "id": "YqnapbZehLbx"
      },
      "execution_count": null,
      "outputs": []
    },
    {
      "cell_type": "code",
      "source": [],
      "metadata": {
        "id": "v-RvgaRihLNt"
      },
      "execution_count": null,
      "outputs": []
    }
  ]
}