{
  "nbformat": 4,
  "nbformat_minor": 0,
  "metadata": {
    "colab": {
      "provenance": [],
      "authorship_tag": "ABX9TyMQY4UgRto/TZUTVFDUI4am",
      "include_colab_link": true
    },
    "kernelspec": {
      "name": "python3",
      "display_name": "Python 3"
    },
    "language_info": {
      "name": "python"
    }
  },
  "cells": [
    {
      "cell_type": "markdown",
      "metadata": {
        "id": "view-in-github",
        "colab_type": "text"
      },
      "source": [
        "<a href=\"https://colab.research.google.com/github/2303A5229272/GEN-AI/blob/main/GEN_AI(2).ipynb\" target=\"_parent\"><img src=\"https://colab.research.google.com/assets/colab-badge.svg\" alt=\"Open In Colab\"/></a>"
      ]
    },
    {
      "cell_type": "code",
      "execution_count": 1,
      "metadata": {
        "id": "k0kYY-lgiWr9"
      },
      "outputs": [],
      "source": [
        "from scipy.optimize import linprog"
      ]
    },
    {
      "cell_type": "code",
      "source": [
        "profit = [-6, -5]"
      ],
      "metadata": {
        "id": "L3Jkq-vzib7U"
      },
      "execution_count": 2,
      "outputs": []
    },
    {
      "cell_type": "code",
      "source": [
        "lhs_ineq = [\n",
        "      [1, 1],\n",
        "          [3, 2]\n",
        "]\n"
      ],
      "metadata": {
        "id": "HaswwB9Bib3v"
      },
      "execution_count": 4,
      "outputs": []
    },
    {
      "cell_type": "code",
      "source": [
        "rhs_ineq = [5, 12]"
      ],
      "metadata": {
        "id": "ffGrdSWqib1P"
      },
      "execution_count": 5,
      "outputs": []
    },
    {
      "cell_type": "code",
      "source": [
        "bounds = [(0, None), (0, None)]"
      ],
      "metadata": {
        "id": "BpSQuynTibyz"
      },
      "execution_count": 6,
      "outputs": []
    },
    {
      "cell_type": "code",
      "source": [
        "result = linprog(c=profit, A_ub=lhs_ineq, b_ub=rhs_ineq, bounds=bounds, method=\"highs\")"
      ],
      "metadata": {
        "id": "iQKy9sECibwK"
      },
      "execution_count": 7,
      "outputs": []
    },
    {
      "cell_type": "code",
      "source": [
        "if result.success:\n",
        "      x, y = result.x\n",
        "      print(f\"Optimal number of units of Chocolate A: {x:.0f}\")\n",
        "      print(f\"Optimal number of units of Chocolate B: {y:.0f}\")\n",
        "      print(f\"Maximum Profit: Rs {(-result.fun):.2f}\")\n",
        "else:\n",
        "      print(\"No solution found.\")"
      ],
      "metadata": {
        "colab": {
          "base_uri": "https://localhost:8080/"
        },
        "id": "265CO9QVibtV",
        "outputId": "90735180-7465-48f5-e325-60200d01fda9"
      },
      "execution_count": 9,
      "outputs": [
        {
          "output_type": "stream",
          "name": "stdout",
          "text": [
            "Optimal number of units of Chocolate A: 2\n",
            "Optimal number of units of Chocolate B: 3\n",
            "Maximum Profit: Rs 27.00\n"
          ]
        }
      ]
    },
    {
      "cell_type": "code",
      "source": [
        "from scipy.optimize import linprog"
      ],
      "metadata": {
        "id": "Mf5u4s77ibrD"
      },
      "execution_count": 10,
      "outputs": []
    },
    {
      "cell_type": "code",
      "source": [
        "c = [-50, -120]\n",
        "A = [\n",
        "    [7000, 2000],\n",
        "        [10, 30],\n",
        "            [1, 1]\n",
        "            ]"
      ],
      "metadata": {
        "id": "brpdeoGtibo5"
      },
      "execution_count": 11,
      "outputs": []
    },
    {
      "cell_type": "code",
      "source": [
        "b = [700000, 1200, 110]"
      ],
      "metadata": {
        "id": "eF18MJLnibmV"
      },
      "execution_count": 12,
      "outputs": []
    },
    {
      "cell_type": "code",
      "source": [
        "x_bounds = (0, None)  # Wheat >= 0\n",
        "y_bounds = (0, None)  # Barley >= 0"
      ],
      "metadata": {
        "id": "JX39xFGmibkG"
      },
      "execution_count": 13,
      "outputs": []
    },
    {
      "cell_type": "code",
      "source": [
        "result = linprog(c, A_ub=A, b_ub=b, bounds=[x_bounds, y_bounds], method='highs')"
      ],
      "metadata": {
        "id": "FzEcNuJojr5G"
      },
      "execution_count": 15,
      "outputs": []
    },
    {
      "cell_type": "code",
      "source": [
        "if result.success:\n",
        "   wheat, barley = result.x\n",
        "   max_profit = -result.fun\n",
        "   print(f\"Optimal planting: Wheat = {wheat:.2f} hectares, Barley = {barley:.2f} hectares\")\n",
        "   print(f\"Maximum profit: Rs {max_profit:.2f}\")\n",
        "else:\n",
        "   print(\"No feasible solution found.\")"
      ],
      "metadata": {
        "colab": {
          "base_uri": "https://localhost:8080/"
        },
        "id": "S2DzHpXVibew",
        "outputId": "411ee387-c0eb-426a-969e-07320eb94702"
      },
      "execution_count": 16,
      "outputs": [
        {
          "output_type": "stream",
          "name": "stdout",
          "text": [
            "Optimal planting: Wheat = 97.89 hectares, Barley = 7.37 hectares\n",
            "Maximum profit: Rs 5778.95\n"
          ]
        }
      ]
    }
  ]
}